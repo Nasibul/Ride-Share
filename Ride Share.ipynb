{
 "cells": [
  {
   "cell_type": "code",
   "execution_count": 1,
   "id": "18ead904",
   "metadata": {},
   "outputs": [],
   "source": [
    "import pandas as pd\n",
    "import numpy as np\n",
    "import statsmodels.api as sm\n",
    "import seaborn as sns"
   ]
  },
  {
   "cell_type": "code",
   "execution_count": 2,
   "id": "76fcb76a",
   "metadata": {},
   "outputs": [
    {
     "data": {
      "text/plain": [
       "<AxesSubplot:xlabel='PAY', ylabel='ACCEPTED'>"
      ]
     },
     "execution_count": 2,
     "metadata": {},
     "output_type": "execute_result"
    },
    {
     "data": {
      "image/png": "[encoded data removed]",
      "text/plain": [
       "<Figure size 432x288 with 1 Axes>"
      ]
     },
     "metadata": {
      "needs_background": "light"
     },
     "output_type": "display_data"
    }
   ],
   "source": [
    "df = pd.read_csv('driverAcceptanceData.csv')\n",
    "df = df.drop('Unnamed: 0', axis=1)\n",
    "df.plot(x='PAY',y='ACCEPTED',kind='scatter')"
   ]
  },
  {
   "cell_type": "code",
   "execution_count": 3,
   "id": "aba78bb4",
   "metadata": {},
   "outputs": [
    {
     "data": {
      "text/plain": [
       "<AxesSubplot:ylabel='Frequency'>"
      ]
     },
     "execution_count": 3,
     "metadata": {},
     "output_type": "execute_result"
    },
    {
     "data": {
      "image/png": "[encoded data removed]",
      "text/plain": [
       "<Figure size 432x288 with 1 Axes>"
      ]
     },
     "metadata": {
      "needs_background": "light"
     },
     "output_type": "display_data"
    }
   ],
   "source": [
    "df['PAY'].plot(kind='hist')"
   ]
  },
  {
   "cell_type": "code",
   "execution_count": 4,
   "id": "9939759a",
   "metadata": {},
   "outputs": [
    {
     "data": {
      "text/plain": [
       "<AxesSubplot:ylabel='Frequency'>"
      ]
     },
     "execution_count": 4,
     "metadata": {},
     "output_type": "execute_result"
    },
    {
     "data": {
      "image/png": "[encoded data removed]",
      "text/plain": [
       "<Figure size 432x288 with 1 Axes>"
      ]
     },
     "metadata": {
      "needs_background": "light"
     },
     "output_type": "display_data"
    }
   ],
   "source": [
    "df[df[\"ACCEPTED\"]==1][\"PAY\"].plot(kind='hist')"
   ]
  },
  {
   "cell_type": "markdown",
   "id": "e12a3a40",
   "metadata": {},
   "source": [
    "This histogram shows that the distribution for the payment for accepted rides follows a normal distribution with a mean close to $32. "
   ]
  },
  {
   "cell_type": "code",
   "execution_count": 5,
   "id": "914afc7a",
   "metadata": {},
   "outputs": [
    {
     "data": {
      "text/plain": [
       "<AxesSubplot:>"
      ]
     },
     "execution_count": 5,
     "metadata": {},
     "output_type": "execute_result"
    },
    {
     "data": {
      "image/png": "[encoded data removed]",
      "text/plain": [
       "<Figure size 432x288 with 1 Axes>"
      ]
     },
     "metadata": {
      "needs_background": "light"
     },
     "output_type": "display_data"
    }
   ],
   "source": [
    "df[df[\"ACCEPTED\"]==1][\"PAY\"].plot(kind='box')"
   ]
  },
  {
   "cell_type": "code",
   "execution_count": 6,
   "id": "9ceeabe9",
   "metadata": {},
   "outputs": [
    {
     "data": {
      "text/plain": [
       "<AxesSubplot:ylabel='Frequency'>"
      ]
     },
     "execution_count": 6,
     "metadata": {},
     "output_type": "execute_result"
    },
    {
     "data": {
      "image/png": "[encoded data removed]",
      "text/plain": [
       "<Figure size 432x288 with 1 Axes>"
      ]
     },
     "metadata": {
      "needs_background": "light"
     },
     "output_type": "display_data"
    }
   ],
   "source": [
    "df[df[\"ACCEPTED\"]==0][\"PAY\"].plot(kind='hist')"
   ]
  },
  {
   "cell_type": "markdown",
   "id": "409fda21",
   "metadata": {},
   "source": [
    "This histogram shows that the proposed payment for rides that were denied follows a normal distribution with a mean close to $20. "
   ]
  },
  {
   "cell_type": "code",
   "execution_count": 7,
   "id": "c6d0602f",
   "metadata": {},
   "outputs": [
    {
     "data": {
      "text/html": [
       "<div>\n",
       "<style scoped>\n",
       "    .dataframe tbody tr th:only-of-type {\n",
       "        vertical-align: middle;\n",
       "    }\n",
       "\n",
       "    .dataframe tbody tr th {\n",
       "        vertical-align: top;\n",
       "    }\n",
       "\n",
       "    .dataframe thead th {\n",
       "        text-align: right;\n",
       "    }\n",
       "</style>\n",
       "<table border=\"1\" class=\"dataframe\">\n",
       "  <thead>\n",
       "    <tr style=\"text-align: right;\">\n",
       "      <th></th>\n",
       "      <th>PAY</th>\n",
       "      <th>ACCEPTED</th>\n",
       "      <th>Profit Margin</th>\n",
       "    </tr>\n",
       "  </thead>\n",
       "  <tbody>\n",
       "    <tr>\n",
       "      <th>0</th>\n",
       "      <td>29.358732</td>\n",
       "      <td>0</td>\n",
       "      <td>0.000000</td>\n",
       "    </tr>\n",
       "    <tr>\n",
       "      <th>1</th>\n",
       "      <td>22.986847</td>\n",
       "      <td>0</td>\n",
       "      <td>0.000000</td>\n",
       "    </tr>\n",
       "    <tr>\n",
       "      <th>2</th>\n",
       "      <td>18.020348</td>\n",
       "      <td>0</td>\n",
       "      <td>0.000000</td>\n",
       "    </tr>\n",
       "    <tr>\n",
       "      <th>3</th>\n",
       "      <td>45.730717</td>\n",
       "      <td>1</td>\n",
       "      <td>-15.730717</td>\n",
       "    </tr>\n",
       "    <tr>\n",
       "      <th>4</th>\n",
       "      <td>14.642845</td>\n",
       "      <td>0</td>\n",
       "      <td>0.000000</td>\n",
       "    </tr>\n",
       "    <tr>\n",
       "      <th>...</th>\n",
       "      <td>...</td>\n",
       "      <td>...</td>\n",
       "      <td>...</td>\n",
       "    </tr>\n",
       "    <tr>\n",
       "      <th>995</th>\n",
       "      <td>17.382310</td>\n",
       "      <td>0</td>\n",
       "      <td>0.000000</td>\n",
       "    </tr>\n",
       "    <tr>\n",
       "      <th>996</th>\n",
       "      <td>20.855120</td>\n",
       "      <td>0</td>\n",
       "      <td>0.000000</td>\n",
       "    </tr>\n",
       "    <tr>\n",
       "      <th>997</th>\n",
       "      <td>42.122166</td>\n",
       "      <td>1</td>\n",
       "      <td>-12.122166</td>\n",
       "    </tr>\n",
       "    <tr>\n",
       "      <th>998</th>\n",
       "      <td>10.853923</td>\n",
       "      <td>0</td>\n",
       "      <td>0.000000</td>\n",
       "    </tr>\n",
       "    <tr>\n",
       "      <th>999</th>\n",
       "      <td>22.310536</td>\n",
       "      <td>0</td>\n",
       "      <td>0.000000</td>\n",
       "    </tr>\n",
       "  </tbody>\n",
       "</table>\n",
       "<p>1000 rows × 3 columns</p>\n",
       "</div>"
      ],
      "text/plain": [
       "           PAY  ACCEPTED  Profit Margin\n",
       "0    29.358732         0       0.000000\n",
       "1    22.986847         0       0.000000\n",
       "2    18.020348         0       0.000000\n",
       "3    45.730717         1     -15.730717\n",
       "4    14.642845         0       0.000000\n",
       "..         ...       ...            ...\n",
       "995  17.382310         0       0.000000\n",
       "996  20.855120         0       0.000000\n",
       "997  42.122166         1     -12.122166\n",
       "998  10.853923         0       0.000000\n",
       "999  22.310536         0       0.000000\n",
       "\n",
       "[1000 rows x 3 columns]"
      ]
     },
     "execution_count": 7,
     "metadata": {},
     "output_type": "execute_result"
    }
   ],
   "source": [
    "df['Profit Margin'] = (30-df['PAY'])*df['ACCEPTED']\n",
    "df"
   ]
  },
  {
   "cell_type": "code",
   "execution_count": 8,
   "id": "c56c1e30",
   "metadata": {},
   "outputs": [
    {
     "data": {
      "text/plain": [
       "-1094.0771378079999"
      ]
     },
     "execution_count": 8,
     "metadata": {},
     "output_type": "execute_result"
    }
   ],
   "source": [
    "df['Profit Margin'].sum()"
   ]
  },
  {
   "cell_type": "markdown",
   "id": "7673e9d3",
   "metadata": {},
   "source": [
    "The business is making a loss of about a thousand in its first month with this current pricing."
   ]
  },
  {
   "cell_type": "code",
   "execution_count": 9,
   "id": "ca01bcae",
   "metadata": {},
   "outputs": [
    {
     "data": {
      "text/plain": [
       "<AxesSubplot:xlabel='PAY', ylabel='ACCEPTED'>"
      ]
     },
     "execution_count": 9,
     "metadata": {},
     "output_type": "execute_result"
    },
    {
     "data": {
      "image/png": "[encoded data removed]",
      "text/plain": [
       "<Figure size 432x288 with 1 Axes>"
      ]
     },
     "metadata": {
      "needs_background": "light"
     },
     "output_type": "display_data"
    }
   ],
   "source": [
    "from sklearn.linear_model import LogisticRegression\n",
    "\n",
    "X = np.array([df[\"PAY\"]]).reshape(-1,1)\n",
    "y = np.array([df['ACCEPTED']]).ravel()\n",
    "model = LogisticRegression().fit(X, y)\n",
    "sns.regplot(x='PAY', y=\"ACCEPTED\", data=df, logistic=True)"
   ]
  },
  {
   "cell_type": "markdown",
   "id": "31189d3e",
   "metadata": {},
   "source": [
    "It seems that $25 is around the mark where the probability of a ride being accepted based on tha payment is 50/50."
   ]
  },
  {
   "cell_type": "code",
   "execution_count": 10,
   "id": "b98b116b",
   "metadata": {},
   "outputs": [
    {
     "name": "stdout",
     "output_type": "stream",
     "text": [
      "$20:[[0.77525228 0.22474772]]\n",
      "$21:[[0.72798244 0.27201756]]\n",
      "$22:[[0.67493924 0.32506076]]\n",
      "$23:[[0.61699452 0.38300548]]\n",
      "$24:[[0.55552286 0.44447714]]\n",
      "$25:[[0.49230346 0.50769654]]\n",
      "$26:[[0.42932925 0.57067075]]\n",
      "$27:[[0.36856265 0.63143735]]\n",
      "$28:[[0.31169911 0.68830089]]\n",
      "$29:[[0.25999636 0.74000364]]\n",
      "$30:[[0.21420084 0.78579916]]\n",
      "$31:[[0.17456881 0.82543119]]\n",
      "$32:[[0.14095427 0.85904573]]\n",
      "$33:[[0.11292693 0.88707307]]\n",
      "$34:[[0.0898894 0.9101106]]\n"
     ]
    }
   ],
   "source": [
    "for i in range(20,35):\n",
    "    print(f'${i}:{model.predict_proba([[i]])}')"
   ]
  },
  {
   "cell_type": "markdown",
   "id": "5dcfa7ff",
   "metadata": {},
   "source": [
    "The 2nd column in the output list is the probablity that the driver will accept the rider based on the payment. \\\\$25 is indeed the payment for which the probability of a driver accepting is 50/50. \\\\$29 is where it is about 74% likely that a driver will accept. At $34, the driver is 91\\% likely to accept. The objective is to maximize the difference between the \\\\$30 flat fee for the rider and the payout to the driver. "
   ]
  },
  {
   "cell_type": "code",
   "execution_count": 32,
   "id": "2de44f0d",
   "metadata": {},
   "outputs": [
    {
     "data": {
      "text/plain": [
       "array([0, 1, 2, 2, 0, 0, 1, 0, 1, 1, 1, 1, 0, 0, 0, 0, 0, 2, 0, 0, 2, 1,\n",
       "       1, 1, 3, 2, 2, 1, 0, 0, 0, 3, 4, 0, 0, 0, 2, 0, 0, 0, 1, 1, 3, 1,\n",
       "       0, 1, 1, 0, 1, 2, 1, 0, 1, 2, 0, 1, 0, 0, 2, 1, 0, 1, 4, 3, 0, 0,\n",
       "       0, 0, 1, 1, 0, 0, 0, 0, 1, 0, 3, 0, 2, 3, 1, 1, 0, 1, 2, 1, 3, 2,\n",
       "       1, 1, 0, 0, 1, 0, 0, 0, 0, 0, 3, 1, 2, 1, 2, 0, 0, 0, 0, 0, 0, 0,\n",
       "       0, 2, 0, 2, 1, 0, 3, 0, 4, 1, 0, 1, 1, 2, 2, 1, 1, 1, 0, 1, 0, 1,\n",
       "       0, 2, 2, 0, 2, 0, 2, 0, 1, 3, 1, 0, 1, 0, 0, 1, 0, 0, 0, 1, 1, 0,\n",
       "       0, 0, 0, 3, 0, 2, 1, 1, 0, 1, 0, 0, 2, 2, 0, 1, 0, 0, 2, 3, 2, 2,\n",
       "       2, 0, 1, 0, 2, 3, 2, 0, 1, 0, 1, 1, 2, 1, 1, 1, 0, 0, 0, 0, 0, 3,\n",
       "       3, 2, 3, 1, 0, 2, 3, 0, 2, 1, 1, 0, 0, 0, 0, 1, 0, 2, 2, 0, 1, 1,\n",
       "       1, 1, 0, 0, 1, 0, 0, 1, 0, 1, 1, 0, 1, 0, 2, 0, 0, 1, 1, 1, 0, 1,\n",
       "       1, 0, 0, 2, 1, 0, 0, 1, 0, 0, 0, 1, 1, 2, 0, 1, 0, 2, 2, 2, 2, 1,\n",
       "       3, 1, 1, 2, 2, 1, 2, 1, 1, 1, 0, 0, 1, 0, 0, 0, 0, 2, 0, 1, 0, 1,\n",
       "       2, 1, 4, 2, 0, 0, 0, 0, 1, 1, 0, 0, 0, 0, 2, 4, 1, 1, 0, 1, 4, 1,\n",
       "       2, 0, 1, 0, 1, 0, 1, 1, 1, 1, 1, 1, 2, 1, 1, 0, 0, 3, 0, 0, 3, 0,\n",
       "       0, 0, 1, 1, 1, 1, 1, 0, 1, 0, 0, 3, 2, 2, 0, 0, 2, 1, 1, 1, 1, 2,\n",
       "       0, 0, 2, 0, 1, 2, 1, 1, 2, 0, 1, 2, 1, 1, 0, 1, 1, 0, 2, 0, 0, 0,\n",
       "       1, 1, 1, 0, 2, 1, 0, 1, 1, 2, 0, 3, 1, 1, 1, 0, 1, 1, 1, 0, 1, 0,\n",
       "       1, 1, 1, 1, 0, 1, 0, 0, 0, 0, 2, 1, 1, 1, 2, 1, 1, 0, 1, 0, 1, 1,\n",
       "       0, 2, 2, 0, 3, 4, 2, 0, 0, 1, 0, 0, 0, 1, 2, 0, 2, 2, 2, 0, 4, 2,\n",
       "       1, 0, 0, 3, 0, 1, 1, 0, 2, 0, 1, 4, 3, 0, 1, 0, 2, 2, 0, 2, 2, 0,\n",
       "       1, 1, 1, 1, 4, 2, 3, 0, 0, 1, 1, 1, 0, 0, 0, 1, 1, 0, 3, 1, 1, 0,\n",
       "       0, 2, 2, 2, 1, 2, 1, 0, 1, 0, 0, 0, 3, 3, 0, 0, 1, 0, 1, 0, 0, 0,\n",
       "       0, 1, 0, 0, 1, 1, 3, 2, 0, 2, 2, 0, 0, 1, 0, 1, 1, 2, 0, 2, 1, 0,\n",
       "       1, 0, 1, 2, 0, 1, 1, 3, 1, 0, 0, 1, 0, 2, 0, 1, 0, 0, 4, 0, 1, 0,\n",
       "       2, 0, 1, 2, 0, 2, 1, 1, 1, 2, 0, 0, 0, 2, 1, 2, 0, 1, 2, 4, 1, 2,\n",
       "       0, 1, 0, 3, 1, 1, 0, 0, 0, 0, 1, 1, 1, 0, 4, 2, 0, 1, 2, 1, 1, 0,\n",
       "       0, 1, 3, 0, 2, 2, 1, 3, 1, 2, 2, 1, 4, 1, 2, 0, 1, 1, 1, 3, 0, 1,\n",
       "       3, 2, 2, 0, 2, 0, 1, 2, 5, 3, 2, 1, 2, 1, 0, 0, 2, 2, 0, 1, 0, 3,\n",
       "       0, 0, 3, 1, 0, 2, 2, 1, 0, 0, 2, 1, 0, 1, 1, 0, 1, 0, 2, 1, 3, 0,\n",
       "       2, 2, 3, 0, 3, 2, 1, 2, 2, 1, 0, 1, 0, 0, 4, 1, 2, 1, 0, 2, 2, 1,\n",
       "       2, 1, 0, 0, 1, 0, 1, 1, 0, 1, 1, 1, 2, 0, 0, 1, 1, 0, 1, 2, 5, 1,\n",
       "       1, 0, 2, 0, 0, 2, 1, 2, 2, 1, 3, 2, 0, 0, 0, 0, 2, 2, 0, 1, 1, 2,\n",
       "       2, 0, 3, 1, 0, 3, 2, 0, 0, 1, 0, 3, 2, 1, 1, 2, 2, 0, 1, 1, 0, 5,\n",
       "       1, 1, 2, 2, 2, 1, 0, 1, 1, 0, 0, 0, 1, 2, 0, 1, 3, 0, 1, 2, 1, 0,\n",
       "       3, 1, 1, 0, 0, 0, 0, 0, 2, 0, 2, 3, 2, 1, 0, 0, 1, 3, 1, 0, 1, 2,\n",
       "       0, 1, 2, 0, 2, 1, 2, 2, 4, 1, 1, 2, 1, 0, 2, 2, 4, 0, 3, 1, 2, 3,\n",
       "       0, 2, 0, 1, 1, 0, 0, 2, 0, 1, 1, 1, 1, 3, 0, 0, 2, 1, 2, 1, 1, 1,\n",
       "       1, 0, 0, 0, 0, 1, 0, 1, 0, 1, 1, 0, 0, 0, 2, 1, 1, 2, 1, 0, 1, 3,\n",
       "       0, 0, 2, 2, 1, 2, 0, 4, 1, 0, 1, 1, 0, 1, 3, 1, 2, 2, 1, 0, 0, 2,\n",
       "       0, 0, 1, 1, 0, 4, 1, 2, 2, 0, 2, 0, 1, 0, 1, 0, 2, 2, 3, 2, 2, 1,\n",
       "       2, 0, 1, 2, 0, 3, 0, 2, 3, 0, 1, 1, 1, 0, 0, 0, 0, 0, 0, 0, 0, 2,\n",
       "       1, 1, 2, 0, 0, 0, 2, 1, 0, 1, 1, 1, 1, 1, 2, 1, 0, 1, 0, 1, 1, 0,\n",
       "       1, 1, 0, 0, 0, 0, 1, 0, 0, 1, 0, 0, 0, 0, 1, 0, 1, 1, 1, 1, 1, 2,\n",
       "       0, 0, 0, 0, 1, 2, 0, 0, 0, 1, 1, 4, 1, 0, 1, 0, 0, 4, 2, 2, 2, 2,\n",
       "       0, 4, 0, 2, 2, 1, 1, 1, 0, 1])"
      ]
     },
     "execution_count": 32,
     "metadata": {},
     "output_type": "execute_result"
    }
   ],
   "source": [
    "np.random.seed(5)\n",
    "np.random.poisson(1,1000)"
   ]
  },
  {
   "cell_type": "code",
   "execution_count": null,
   "id": "1ab0a2b6",
   "metadata": {},
   "outputs": [],
   "source": []
  }
 ],
 "metadata": {
  "kernelspec": {
   "display_name": "Python 3",
   "language": "python",
   "name": "python3"
  },
  "language_info": {
   "codemirror_mode": {
    "name": "ipython",
    "version": 3
   },
   "file_extension": ".py",
   "mimetype": "text/x-python",
   "name": "python",
   "nbconvert_exporter": "python",
   "pygments_lexer": "ipython3",
   "version": "3.9.4"
  }
 },
 "nbformat": 4,
 "nbformat_minor": 5
}
